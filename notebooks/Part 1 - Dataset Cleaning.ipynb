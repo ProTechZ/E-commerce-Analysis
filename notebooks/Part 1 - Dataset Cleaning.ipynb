{
 "cells": [
  {
   "cell_type": "markdown",
   "metadata": {},
   "source": [
    "## 1. Dataset Cleaning\n",
    "- Clean and group the datasets as required"
   ]
  },
  {
   "cell_type": "code",
   "execution_count": 33,
   "metadata": {},
   "outputs": [],
   "source": [
    "import numpy as np\n",
    "import pandas as pd"
   ]
  },
  {
   "cell_type": "markdown",
   "metadata": {},
   "source": [
    "### Combining the products and products-categories dataset"
   ]
  },
  {
   "cell_type": "markdown",
   "metadata": {},
   "source": [
    "Since we have the products and the category of the products in 2 different datasets, we will combine them into 1 dataset to make it easier to reference"
   ]
  },
  {
   "cell_type": "code",
   "execution_count": 34,
   "metadata": {},
   "outputs": [
    {
     "data": {
      "text/html": [
       "<div>\n",
       "<style scoped>\n",
       "    .dataframe tbody tr th:only-of-type {\n",
       "        vertical-align: middle;\n",
       "    }\n",
       "\n",
       "    .dataframe tbody tr th {\n",
       "        vertical-align: top;\n",
       "    }\n",
       "\n",
       "    .dataframe thead th {\n",
       "        text-align: right;\n",
       "    }\n",
       "</style>\n",
       "<table border=\"1\" class=\"dataframe\">\n",
       "  <thead>\n",
       "    <tr style=\"text-align: right;\">\n",
       "      <th></th>\n",
       "      <th>id</th>\n",
       "      <th>title</th>\n",
       "      <th>price</th>\n",
       "      <th>category_id</th>\n",
       "    </tr>\n",
       "  </thead>\n",
       "  <tbody>\n",
       "    <tr>\n",
       "      <th>0</th>\n",
       "      <td>13142</td>\n",
       "      <td>Glitter Tulle Fabric Rolls, Gold Foil Star Tul...</td>\n",
       "      <td>9.99</td>\n",
       "      <td>7</td>\n",
       "    </tr>\n",
       "    <tr>\n",
       "      <th>1</th>\n",
       "      <td>46184</td>\n",
       "      <td>Fabrics, Modern Scandinavian, Daffodil Pink Co...</td>\n",
       "      <td>7.30</td>\n",
       "      <td>7</td>\n",
       "    </tr>\n",
       "    <tr>\n",
       "      <th>2</th>\n",
       "      <td>48829</td>\n",
       "      <td>Urbun Baby Girls Headbands Wool Knitting Fabri...</td>\n",
       "      <td>8.99</td>\n",
       "      <td>35</td>\n",
       "    </tr>\n",
       "    <tr>\n",
       "      <th>3</th>\n",
       "      <td>8798</td>\n",
       "      <td>Spoonflower Fabric - Baby Blue White Swiss Cro...</td>\n",
       "      <td>12.00</td>\n",
       "      <td>7</td>\n",
       "    </tr>\n",
       "    <tr>\n",
       "      <th>4</th>\n",
       "      <td>33635</td>\n",
       "      <td>Cotton Computer Chips Circut Boards Technology...</td>\n",
       "      <td>14.95</td>\n",
       "      <td>7</td>\n",
       "    </tr>\n",
       "  </tbody>\n",
       "</table>\n",
       "</div>"
      ],
      "text/plain": [
       "      id                                              title  price  \\\n",
       "0  13142  Glitter Tulle Fabric Rolls, Gold Foil Star Tul...   9.99   \n",
       "1  46184  Fabrics, Modern Scandinavian, Daffodil Pink Co...   7.30   \n",
       "2  48829  Urbun Baby Girls Headbands Wool Knitting Fabri...   8.99   \n",
       "3   8798  Spoonflower Fabric - Baby Blue White Swiss Cro...  12.00   \n",
       "4  33635  Cotton Computer Chips Circut Boards Technology...  14.95   \n",
       "\n",
       "   category_id  \n",
       "0            7  \n",
       "1            7  \n",
       "2           35  \n",
       "3            7  \n",
       "4            7  "
      ]
     },
     "execution_count": 34,
     "metadata": {},
     "output_type": "execute_result"
    }
   ],
   "source": [
    "amazon_products = pd.read_csv('../raw_datasets/amazon_products.csv') \n",
    "amazon_products.head()"
   ]
  },
  {
   "cell_type": "code",
   "execution_count": 35,
   "metadata": {},
   "outputs": [],
   "source": [
    "amazon_categories = pd.read_csv('../raw_datasets/amazon_categories.csv')\n",
    "\n",
    "def match_category(category_id):\n",
    "  return amazon_categories[amazon_categories['id'] == category_id].iloc[0, 1]\n",
    "\n",
    "amazon_products['category'] = amazon_products['category_id'].apply(match_category)"
   ]
  },
  {
   "cell_type": "code",
   "execution_count": 36,
   "metadata": {},
   "outputs": [],
   "source": [
    "amazon_products = amazon_products.drop(columns=['category_id'])"
   ]
  },
  {
   "cell_type": "code",
   "execution_count": 37,
   "metadata": {},
   "outputs": [
    {
     "data": {
      "text/html": [
       "<div>\n",
       "<style scoped>\n",
       "    .dataframe tbody tr th:only-of-type {\n",
       "        vertical-align: middle;\n",
       "    }\n",
       "\n",
       "    .dataframe tbody tr th {\n",
       "        vertical-align: top;\n",
       "    }\n",
       "\n",
       "    .dataframe thead th {\n",
       "        text-align: right;\n",
       "    }\n",
       "</style>\n",
       "<table border=\"1\" class=\"dataframe\">\n",
       "  <thead>\n",
       "    <tr style=\"text-align: right;\">\n",
       "      <th></th>\n",
       "      <th>id</th>\n",
       "      <th>title</th>\n",
       "      <th>price</th>\n",
       "      <th>category</th>\n",
       "    </tr>\n",
       "  </thead>\n",
       "  <tbody>\n",
       "    <tr>\n",
       "      <th>0</th>\n",
       "      <td>13142</td>\n",
       "      <td>Glitter Tulle Fabric Rolls, Gold Foil Star Tul...</td>\n",
       "      <td>9.99</td>\n",
       "      <td>Craft &amp; Hobby Fabric</td>\n",
       "    </tr>\n",
       "    <tr>\n",
       "      <th>1</th>\n",
       "      <td>46184</td>\n",
       "      <td>Fabrics, Modern Scandinavian, Daffodil Pink Co...</td>\n",
       "      <td>7.30</td>\n",
       "      <td>Craft &amp; Hobby Fabric</td>\n",
       "    </tr>\n",
       "    <tr>\n",
       "      <th>2</th>\n",
       "      <td>48829</td>\n",
       "      <td>Urbun Baby Girls Headbands Wool Knitting Fabri...</td>\n",
       "      <td>8.99</td>\n",
       "      <td>Baby Care Products</td>\n",
       "    </tr>\n",
       "    <tr>\n",
       "      <th>3</th>\n",
       "      <td>8798</td>\n",
       "      <td>Spoonflower Fabric - Baby Blue White Swiss Cro...</td>\n",
       "      <td>12.00</td>\n",
       "      <td>Craft &amp; Hobby Fabric</td>\n",
       "    </tr>\n",
       "    <tr>\n",
       "      <th>4</th>\n",
       "      <td>33635</td>\n",
       "      <td>Cotton Computer Chips Circut Boards Technology...</td>\n",
       "      <td>14.95</td>\n",
       "      <td>Craft &amp; Hobby Fabric</td>\n",
       "    </tr>\n",
       "  </tbody>\n",
       "</table>\n",
       "</div>"
      ],
      "text/plain": [
       "      id                                              title  price  \\\n",
       "0  13142  Glitter Tulle Fabric Rolls, Gold Foil Star Tul...   9.99   \n",
       "1  46184  Fabrics, Modern Scandinavian, Daffodil Pink Co...   7.30   \n",
       "2  48829  Urbun Baby Girls Headbands Wool Knitting Fabri...   8.99   \n",
       "3   8798  Spoonflower Fabric - Baby Blue White Swiss Cro...  12.00   \n",
       "4  33635  Cotton Computer Chips Circut Boards Technology...  14.95   \n",
       "\n",
       "               category  \n",
       "0  Craft & Hobby Fabric  \n",
       "1  Craft & Hobby Fabric  \n",
       "2    Baby Care Products  \n",
       "3  Craft & Hobby Fabric  \n",
       "4  Craft & Hobby Fabric  "
      ]
     },
     "execution_count": 37,
     "metadata": {},
     "output_type": "execute_result"
    }
   ],
   "source": [
    "amazon_products.head()"
   ]
  },
  {
   "cell_type": "markdown",
   "metadata": {},
   "source": [
    "### Dropping all unused rows"
   ]
  },
  {
   "cell_type": "code",
   "execution_count": 38,
   "metadata": {},
   "outputs": [
    {
     "name": "stdout",
     "output_type": "stream",
     "text": [
      "Before dropping values that are 0 in the prices column: 758\n",
      "After dropping values that are 0 in the prices column: 732\n"
     ]
    }
   ],
   "source": [
    "print(f'Before dropping values that are 0 in the prices column: {len(amazon_products)}')\n",
    "\n",
    "amazon_products= amazon_products[amazon_products['price'] != 0]\n",
    "print(f'After dropping values that are 0 in the prices column: {len(amazon_products)}')"
   ]
  },
  {
   "cell_type": "markdown",
   "metadata": {},
   "source": [
    "### Saving to CSV file"
   ]
  },
  {
   "cell_type": "code",
   "execution_count": 39,
   "metadata": {},
   "outputs": [],
   "source": [
    "amazon_products.to_csv('./datasets/products.csv', index=False)"
   ]
  },
  {
   "cell_type": "markdown",
   "metadata": {},
   "source": [
    "## Customer Dataset"
   ]
  },
  {
   "cell_type": "markdown",
   "metadata": {},
   "source": [
    "This dataset has multiple columns showing the number of purchases from various places. We will combine all these values into a single column 'NumOfPurchases'"
   ]
  },
  {
   "cell_type": "code",
   "execution_count": 40,
   "metadata": {},
   "outputs": [
    {
     "data": {
      "text/html": [
       "<div>\n",
       "<style scoped>\n",
       "    .dataframe tbody tr th:only-of-type {\n",
       "        vertical-align: middle;\n",
       "    }\n",
       "\n",
       "    .dataframe tbody tr th {\n",
       "        vertical-align: top;\n",
       "    }\n",
       "\n",
       "    .dataframe thead th {\n",
       "        text-align: right;\n",
       "    }\n",
       "</style>\n",
       "<table border=\"1\" class=\"dataframe\">\n",
       "  <thead>\n",
       "    <tr style=\"text-align: right;\">\n",
       "      <th></th>\n",
       "      <th>ID</th>\n",
       "      <th>Year_Birth</th>\n",
       "      <th>Education</th>\n",
       "      <th>Marital_Status</th>\n",
       "      <th>Income</th>\n",
       "      <th>Kids</th>\n",
       "      <th>NumDealsPurchases</th>\n",
       "      <th>NumWebPurchases</th>\n",
       "      <th>NumCatalogPurchases</th>\n",
       "      <th>NumStorePurchases</th>\n",
       "    </tr>\n",
       "  </thead>\n",
       "  <tbody>\n",
       "    <tr>\n",
       "      <th>0</th>\n",
       "      <td>5524</td>\n",
       "      <td>1957</td>\n",
       "      <td>Graduation</td>\n",
       "      <td>Single</td>\n",
       "      <td>58138.0</td>\n",
       "      <td>0</td>\n",
       "      <td>3</td>\n",
       "      <td>8</td>\n",
       "      <td>10</td>\n",
       "      <td>4</td>\n",
       "    </tr>\n",
       "    <tr>\n",
       "      <th>1</th>\n",
       "      <td>2174</td>\n",
       "      <td>1954</td>\n",
       "      <td>Graduation</td>\n",
       "      <td>Single</td>\n",
       "      <td>46344.0</td>\n",
       "      <td>2</td>\n",
       "      <td>2</td>\n",
       "      <td>1</td>\n",
       "      <td>1</td>\n",
       "      <td>2</td>\n",
       "    </tr>\n",
       "    <tr>\n",
       "      <th>2</th>\n",
       "      <td>4141</td>\n",
       "      <td>1965</td>\n",
       "      <td>Graduation</td>\n",
       "      <td>Together</td>\n",
       "      <td>71613.0</td>\n",
       "      <td>0</td>\n",
       "      <td>1</td>\n",
       "      <td>8</td>\n",
       "      <td>2</td>\n",
       "      <td>10</td>\n",
       "    </tr>\n",
       "    <tr>\n",
       "      <th>3</th>\n",
       "      <td>6182</td>\n",
       "      <td>1984</td>\n",
       "      <td>Graduation</td>\n",
       "      <td>Together</td>\n",
       "      <td>26646.0</td>\n",
       "      <td>1</td>\n",
       "      <td>2</td>\n",
       "      <td>2</td>\n",
       "      <td>0</td>\n",
       "      <td>4</td>\n",
       "    </tr>\n",
       "    <tr>\n",
       "      <th>4</th>\n",
       "      <td>5324</td>\n",
       "      <td>1981</td>\n",
       "      <td>PhD</td>\n",
       "      <td>Married</td>\n",
       "      <td>58293.0</td>\n",
       "      <td>1</td>\n",
       "      <td>5</td>\n",
       "      <td>5</td>\n",
       "      <td>3</td>\n",
       "      <td>6</td>\n",
       "    </tr>\n",
       "  </tbody>\n",
       "</table>\n",
       "</div>"
      ],
      "text/plain": [
       "     ID  Year_Birth   Education Marital_Status   Income  Kids  \\\n",
       "0  5524        1957  Graduation         Single  58138.0     0   \n",
       "1  2174        1954  Graduation         Single  46344.0     2   \n",
       "2  4141        1965  Graduation       Together  71613.0     0   \n",
       "3  6182        1984  Graduation       Together  26646.0     1   \n",
       "4  5324        1981         PhD        Married  58293.0     1   \n",
       "\n",
       "   NumDealsPurchases  NumWebPurchases  NumCatalogPurchases  NumStorePurchases  \n",
       "0                  3                8                   10                  4  \n",
       "1                  2                1                    1                  2  \n",
       "2                  1                8                    2                 10  \n",
       "3                  2                2                    0                  4  \n",
       "4                  5                5                    3                  6  "
      ]
     },
     "execution_count": 40,
     "metadata": {},
     "output_type": "execute_result"
    }
   ],
   "source": [
    "customers = pd.read_csv('../raw_datasets/customers.csv')\n",
    "customers.head()"
   ]
  },
  {
   "cell_type": "code",
   "execution_count": 41,
   "metadata": {},
   "outputs": [],
   "source": [
    "customers['NumOfPurchases'] = customers['NumDealsPurchases'] + customers['NumWebPurchases'] + customers['NumCatalogPurchases'] + customers['NumStorePurchases']"
   ]
  },
  {
   "cell_type": "markdown",
   "metadata": {},
   "source": [
    "Convert \"Year_Birth\" column into \"Age\" column"
   ]
  },
  {
   "cell_type": "code",
   "execution_count": 42,
   "metadata": {},
   "outputs": [],
   "source": [
    "customers['Age'] = 2024 - customers['Year_Birth']"
   ]
  },
  {
   "cell_type": "markdown",
   "metadata": {},
   "source": [
    "Dropping all unused columns"
   ]
  },
  {
   "cell_type": "code",
   "execution_count": 43,
   "metadata": {},
   "outputs": [],
   "source": [
    "customers = customers.drop(columns=['Year_Birth', 'NumDealsPurchases', 'NumWebPurchases', 'NumCatalogPurchases', 'NumStorePurchases'])"
   ]
  },
  {
   "cell_type": "markdown",
   "metadata": {},
   "source": [
    "Next we will add 2 products that they 'bought' to each customer"
   ]
  },
  {
   "cell_type": "code",
   "execution_count": 44,
   "metadata": {},
   "outputs": [],
   "source": [
    "from random import choice\n",
    "\n",
    "product_id_list = list(amazon_products['id'])\n",
    "\n",
    "# create empty columns\n",
    "customers['Product_1'] = [choice(product_id_list) for _ in range(len(customers))]\n",
    "customers['Product_2'] = [choice(product_id_list) for _ in range(len(customers))]"
   ]
  },
  {
   "cell_type": "code",
   "execution_count": 45,
   "metadata": {},
   "outputs": [
    {
     "name": "stdout",
     "output_type": "stream",
     "text": [
      "Before dropping NaN values: 2240\n",
      "After dropping NaN values: 2216\n"
     ]
    }
   ],
   "source": [
    "print(f'Before dropping NaN values: {len(customers)}')\n",
    "\n",
    "customers = customers.dropna()\n",
    "print(f'After dropping NaN values: {len(customers)}')"
   ]
  },
  {
   "cell_type": "code",
   "execution_count": 46,
   "metadata": {},
   "outputs": [
    {
     "data": {
      "text/html": [
       "<div>\n",
       "<style scoped>\n",
       "    .dataframe tbody tr th:only-of-type {\n",
       "        vertical-align: middle;\n",
       "    }\n",
       "\n",
       "    .dataframe tbody tr th {\n",
       "        vertical-align: top;\n",
       "    }\n",
       "\n",
       "    .dataframe thead th {\n",
       "        text-align: right;\n",
       "    }\n",
       "</style>\n",
       "<table border=\"1\" class=\"dataframe\">\n",
       "  <thead>\n",
       "    <tr style=\"text-align: right;\">\n",
       "      <th></th>\n",
       "      <th>ID</th>\n",
       "      <th>Education</th>\n",
       "      <th>Marital_Status</th>\n",
       "      <th>Income</th>\n",
       "      <th>Kids</th>\n",
       "      <th>NumOfPurchases</th>\n",
       "      <th>Age</th>\n",
       "      <th>Product_1</th>\n",
       "      <th>Product_2</th>\n",
       "    </tr>\n",
       "  </thead>\n",
       "  <tbody>\n",
       "    <tr>\n",
       "      <th>0</th>\n",
       "      <td>5524</td>\n",
       "      <td>Graduation</td>\n",
       "      <td>Single</td>\n",
       "      <td>58138.0</td>\n",
       "      <td>0</td>\n",
       "      <td>25</td>\n",
       "      <td>67</td>\n",
       "      <td>22896</td>\n",
       "      <td>41731</td>\n",
       "    </tr>\n",
       "    <tr>\n",
       "      <th>1</th>\n",
       "      <td>2174</td>\n",
       "      <td>Graduation</td>\n",
       "      <td>Single</td>\n",
       "      <td>46344.0</td>\n",
       "      <td>2</td>\n",
       "      <td>6</td>\n",
       "      <td>70</td>\n",
       "      <td>19442</td>\n",
       "      <td>19053</td>\n",
       "    </tr>\n",
       "    <tr>\n",
       "      <th>2</th>\n",
       "      <td>4141</td>\n",
       "      <td>Graduation</td>\n",
       "      <td>Together</td>\n",
       "      <td>71613.0</td>\n",
       "      <td>0</td>\n",
       "      <td>21</td>\n",
       "      <td>59</td>\n",
       "      <td>22868</td>\n",
       "      <td>34901</td>\n",
       "    </tr>\n",
       "    <tr>\n",
       "      <th>3</th>\n",
       "      <td>6182</td>\n",
       "      <td>Graduation</td>\n",
       "      <td>Together</td>\n",
       "      <td>26646.0</td>\n",
       "      <td>1</td>\n",
       "      <td>8</td>\n",
       "      <td>40</td>\n",
       "      <td>15856</td>\n",
       "      <td>45888</td>\n",
       "    </tr>\n",
       "    <tr>\n",
       "      <th>4</th>\n",
       "      <td>5324</td>\n",
       "      <td>PhD</td>\n",
       "      <td>Married</td>\n",
       "      <td>58293.0</td>\n",
       "      <td>1</td>\n",
       "      <td>19</td>\n",
       "      <td>43</td>\n",
       "      <td>2772</td>\n",
       "      <td>33379</td>\n",
       "    </tr>\n",
       "  </tbody>\n",
       "</table>\n",
       "</div>"
      ],
      "text/plain": [
       "     ID   Education Marital_Status   Income  Kids  NumOfPurchases  Age  \\\n",
       "0  5524  Graduation         Single  58138.0     0              25   67   \n",
       "1  2174  Graduation         Single  46344.0     2               6   70   \n",
       "2  4141  Graduation       Together  71613.0     0              21   59   \n",
       "3  6182  Graduation       Together  26646.0     1               8   40   \n",
       "4  5324         PhD        Married  58293.0     1              19   43   \n",
       "\n",
       "   Product_1  Product_2  \n",
       "0      22896      41731  \n",
       "1      19442      19053  \n",
       "2      22868      34901  \n",
       "3      15856      45888  \n",
       "4       2772      33379  "
      ]
     },
     "execution_count": 46,
     "metadata": {},
     "output_type": "execute_result"
    }
   ],
   "source": [
    "customers.head()"
   ]
  },
  {
   "cell_type": "code",
   "execution_count": 47,
   "metadata": {},
   "outputs": [],
   "source": [
    "customers.to_csv('datasets/customers.csv', index=False)"
   ]
  }
 ],
 "metadata": {
  "kernelspec": {
   "display_name": "env",
   "language": "python",
   "name": "env"
  },
  "language_info": {
   "codemirror_mode": {
    "name": "ipython",
    "version": 3
   },
   "file_extension": ".py",
   "mimetype": "text/x-python",
   "name": "python",
   "nbconvert_exporter": "python",
   "pygments_lexer": "ipython3",
   "version": "3.12.3"
  }
 },
 "nbformat": 4,
 "nbformat_minor": 2
}
